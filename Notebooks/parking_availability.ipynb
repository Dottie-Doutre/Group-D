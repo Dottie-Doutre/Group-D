{
 "cells": [
  {
   "cell_type": "code",
   "execution_count": 95,
   "metadata": {},
   "outputs": [],
   "source": [
    "import requests, json\n",
    "import pandas as pd\n",
    "import numpy as np\n",
    "from datetime import date, timedelta\n",
    "\n",
    "headers = {\n",
    "'Accept': 'application/x-google-protobuf',\n",
    "'Authorization': 'apikey vy2rFNXj4MRr2fuPWkB9etPZlz2yiD7NoWHl',\n",
    "}\n",
    "\n",
    "df_res = pd.DataFrame()\n",
    "all_res = []\n",
    "\n",
    "def get_carspaces(facility,date):\n",
    "\n",
    "    url = f'https://api.transport.nsw.gov.au/v1/carpark/history?facility={facility}&eventdate={date}'\n",
    "\n",
    "    response = requests.get(url, headers=headers, stream=True)\n",
    "    \n",
    "    json_string = json.loads(response.content)\n",
    "\n",
    "    list_of_available = []\n",
    "    list_timestamp = []\n",
    "    df_car_spaces = pd.DataFrame()\n",
    "    for x in range(len(json_string)):\n",
    "        total = json_string[x]['occupancy']['total']\n",
    "        timestamp = json_string[x]['MessageDate']\n",
    "        spots = json_string[x]['spots']\n",
    "        list_of_available.append( int(spots) - int(total))\n",
    "        list_timestamp.append( timestamp)\n",
    "    \n",
    "    df_car_spaces['Timestamp'] = list_timestamp\n",
    "    df_car_spaces['Available'] = list_of_available\n",
    "    all_res.append(df_car_spaces)\n",
    "    #df_car_spaces.to_csv(f'../Resources/car_spaces{date}.csv')\n",
    "\n",
    "# Parse date range\n",
    "def daterange(start_date, end_date):\n",
    "    for n in range(int((end_date - start_date).days)):\n",
    "        yield start_date + timedelta(n)\n",
    "\n",
    "# Set start and end datetimes of 1 month \n",
    "start_date = date(2022, 3, 11)\n",
    "end_date = date(2022, 4, 18)\n",
    "for single_date in daterange(start_date, end_date):\n",
    "    #print(single_date.strftime(\"%Y-%m-%d\"))\n",
    "    # 14 - West Ryde Car Park\n",
    "    get_carspaces(14,single_date)\n",
    "\n",
    "df_res = pd.concat(all_res)\n",
    "#df_res.to_csv('../Resources/carspaces_data.csv')"
   ]
  },
  {
   "cell_type": "code",
   "execution_count": 79,
   "metadata": {},
   "outputs": [
    {
     "data": {
      "text/html": [
       "<div>\n",
       "<style scoped>\n",
       "    .dataframe tbody tr th:only-of-type {\n",
       "        vertical-align: middle;\n",
       "    }\n",
       "\n",
       "    .dataframe tbody tr th {\n",
       "        vertical-align: top;\n",
       "    }\n",
       "\n",
       "    .dataframe thead th {\n",
       "        text-align: right;\n",
       "    }\n",
       "</style>\n",
       "<table border=\"1\" class=\"dataframe\">\n",
       "  <thead>\n",
       "    <tr style=\"text-align: right;\">\n",
       "      <th></th>\n",
       "      <th>Available</th>\n",
       "    </tr>\n",
       "    <tr>\n",
       "      <th>Timestamp</th>\n",
       "      <th></th>\n",
       "    </tr>\n",
       "  </thead>\n",
       "  <tbody>\n",
       "    <tr>\n",
       "      <th>2022-04-17T23:16:15</th>\n",
       "      <td>142</td>\n",
       "    </tr>\n",
       "    <tr>\n",
       "      <th>2022-04-17T23:26:17</th>\n",
       "      <td>142</td>\n",
       "    </tr>\n",
       "    <tr>\n",
       "      <th>2022-04-17T23:33:27</th>\n",
       "      <td>143</td>\n",
       "    </tr>\n",
       "    <tr>\n",
       "      <th>2022-04-17T23:43:27</th>\n",
       "      <td>143</td>\n",
       "    </tr>\n",
       "    <tr>\n",
       "      <th>2022-04-17T23:53:29</th>\n",
       "      <td>143</td>\n",
       "    </tr>\n",
       "  </tbody>\n",
       "</table>\n",
       "</div>"
      ],
      "text/plain": [
       "                     Available\n",
       "Timestamp                     \n",
       "2022-04-17T23:16:15        142\n",
       "2022-04-17T23:26:17        142\n",
       "2022-04-17T23:33:27        143\n",
       "2022-04-17T23:43:27        143\n",
       "2022-04-17T23:53:29        143"
      ]
     },
     "execution_count": 79,
     "metadata": {},
     "output_type": "execute_result"
    }
   ],
   "source": [
    "df_res.set_index(df_res['Timestamp'], inplace=True)\n",
    "del df_res['Timestamp']\n",
    "df_res.tail()"
   ]
  },
  {
   "cell_type": "code",
   "execution_count": 80,
   "metadata": {},
   "outputs": [],
   "source": [
    "def window_data(df, window, feature_col_number, target_col_number):\n",
    "    \"\"\"\n",
    "    This function accepts the column number for the features (X) and the target (y).\n",
    "    It chunks the data up with a rolling window of Xt - window to predict Xt.\n",
    "    It returns two numpy arrays of X and y.\n",
    "    \"\"\"\n",
    "    X = []\n",
    "    y = []\n",
    "    for i in range(len(df) - window):\n",
    "        features = df.iloc[i : (i + window), feature_col_number]\n",
    "        target = df.iloc[(i + window), target_col_number]\n",
    "        X.append(features)\n",
    "        y.append(target)\n",
    "    return np.array(X), np.array(y).reshape(-1, 1)"
   ]
  },
  {
   "cell_type": "code",
   "execution_count": 81,
   "metadata": {},
   "outputs": [
    {
     "name": "stdout",
     "output_type": "stream",
     "text": [
      "X sample values:\n",
      "[[148 148 148 148 148 148 148 148 148 148 148 148 148 148 148 148 148 148\n",
      "  148 148 148 148 148 148 148 148 148 147 147 147 146 145 145 144 143 142\n",
      "  141 140 139 138 137 136 135 134 133 132 131 130 131 131 130 129 128 127\n",
      "  128 127 126 125 126 125 124 123 122 121 120 119 118 117 116 115 114 113\n",
      "  112 111 110 109 108 107 106 105 104 105 106 107 106 105 106 105 106 107\n",
      "  107 108 107 108 107 106 105 104 103 102 101 101 100  99  98  97  96  97\n",
      "   96  95  94  93  92  91  90  89  90  89  88  87  86  85  84  83  82  83\n",
      "   82  81  80  79  78  78  79  79  78  77  76  76  75  74  73  72  71  72\n",
      "   71  70  69  68  67  68  69  68  67  66  67  66  67  66  65  65  64  63\n",
      "   63  64  63  63  62  61  62  62  61  62  61  60  59  60  59  58  58  58\n",
      "   57  58  59  60  59  60  61  60  60  59  58  59  60  61  60  61  60  61\n",
      "   60  59  60  60  60  61  62  63  62  63  64  63  64  63  63  64  63  64\n",
      "   65  66  67  67  67  66  65  66  67  68  69  70  69  70  69  70  71  72\n",
      "   73  74  75  74  75  76  76  75  74  73  74  73  72  73  73  74  75  76\n",
      "   77  78  77  78  79  80  81  82  83  84  85  86  86  87  88  89  90  91\n",
      "   92  93  94  95  96  97  96  97  98  99]\n",
      " [148 148 148 148 148 148 148 148 148 148 148 148 148 148 148 148 148 148\n",
      "  148 148 148 148 148 148 148 148 147 147 147 146 145 145 144 143 142 141\n",
      "  140 139 138 137 136 135 134 133 132 131 130 131 131 130 129 128 127 128\n",
      "  127 126 125 126 125 124 123 122 121 120 119 118 117 116 115 114 113 112\n",
      "  111 110 109 108 107 106 105 104 105 106 107 106 105 106 105 106 107 107\n",
      "  108 107 108 107 106 105 104 103 102 101 101 100  99  98  97  96  97  96\n",
      "   95  94  93  92  91  90  89  90  89  88  87  86  85  84  83  82  83  82\n",
      "   81  80  79  78  78  79  79  78  77  76  76  75  74  73  72  71  72  71\n",
      "   70  69  68  67  68  69  68  67  66  67  66  67  66  65  65  64  63  63\n",
      "   64  63  63  62  61  62  62  61  62  61  60  59  60  59  58  58  58  57\n",
      "   58  59  60  59  60  61  60  60  59  58  59  60  61  60  61  60  61  60\n",
      "   59  60  60  60  61  62  63  62  63  64  63  64  63  63  64  63  64  65\n",
      "   66  67  67  67  66  65  66  67  68  69  70  69  70  69  70  71  72  73\n",
      "   74  75  74  75  76  76  75  74  73  74  73  72  73  73  74  75  76  77\n",
      "   78  77  78  79  80  81  82  83  84  85  86  86  87  88  89  90  91  92\n",
      "   93  94  95  96  97  96  97  98  99  98]\n",
      " [148 148 148 148 148 148 148 148 148 148 148 148 148 148 148 148 148 148\n",
      "  148 148 148 148 148 148 148 147 147 147 146 145 145 144 143 142 141 140\n",
      "  139 138 137 136 135 134 133 132 131 130 131 131 130 129 128 127 128 127\n",
      "  126 125 126 125 124 123 122 121 120 119 118 117 116 115 114 113 112 111\n",
      "  110 109 108 107 106 105 104 105 106 107 106 105 106 105 106 107 107 108\n",
      "  107 108 107 106 105 104 103 102 101 101 100  99  98  97  96  97  96  95\n",
      "   94  93  92  91  90  89  90  89  88  87  86  85  84  83  82  83  82  81\n",
      "   80  79  78  78  79  79  78  77  76  76  75  74  73  72  71  72  71  70\n",
      "   69  68  67  68  69  68  67  66  67  66  67  66  65  65  64  63  63  64\n",
      "   63  63  62  61  62  62  61  62  61  60  59  60  59  58  58  58  57  58\n",
      "   59  60  59  60  61  60  60  59  58  59  60  61  60  61  60  61  60  59\n",
      "   60  60  60  61  62  63  62  63  64  63  64  63  63  64  63  64  65  66\n",
      "   67  67  67  66  65  66  67  68  69  70  69  70  69  70  71  72  73  74\n",
      "   75  74  75  76  76  75  74  73  74  73  72  73  73  74  75  76  77  78\n",
      "   77  78  79  80  81  82  83  84  85  86  86  87  88  89  90  91  92  93\n",
      "   94  95  96  97  96  97  98  99  98  99]] \n",
      "\n",
      "y sample values:\n",
      "[[ 98]\n",
      " [ 99]\n",
      " [100]]\n"
     ]
    }
   ],
   "source": [
    "# Define the window size\n",
    "window_size = 280\n",
    "\n",
    "# Set the index of the feature and target columns\n",
    "feature_column = 0\n",
    "target_column = 0\n",
    "\n",
    "# Create the features (X) and target (y) data using the window_data() function.\n",
    "X, y = window_data(df_res, window_size, feature_column, target_column)\n",
    "\n",
    "# Print a few sample values from X and y\n",
    "print (f\"X sample values:\\n{X[:3]} \\n\")\n",
    "print (f\"y sample values:\\n{y[:3]}\")"
   ]
  },
  {
   "cell_type": "code",
   "execution_count": 82,
   "metadata": {},
   "outputs": [],
   "source": [
    "# Manually splitting the data\n",
    "split = int(0.7 * len(X))\n",
    "\n",
    "X_train = X[: split]\n",
    "X_test = X[split:]\n",
    "\n",
    "y_train = y[: split]\n",
    "y_test = y[split:]"
   ]
  },
  {
   "cell_type": "code",
   "execution_count": 83,
   "metadata": {},
   "outputs": [],
   "source": [
    "# Use the MinMaxScaler to scale data between 0 and 1.\n",
    "from sklearn.preprocessing import MinMaxScaler\n",
    "\n",
    "# Create a MinMaxScaler object\n",
    "scaler = MinMaxScaler()\n",
    "\n",
    "# Fit the MinMaxScaler object with the training feature data X_train\n",
    "\n",
    "scaler.fit(X_train)\n",
    "\n",
    "# Scale the features training and testing sets\n",
    "X_train = scaler.transform(X_train)\n",
    "X_test = scaler.transform(X_test)\n",
    "\n",
    "# Fit the MinMaxScaler object with the training target data y_train\n",
    "scaler.fit(y_train)\n",
    "\n",
    "# Scale the target training and testing sets\n",
    "y_train = scaler.transform(y_train)\n",
    "y_test = scaler.transform(y_test)"
   ]
  },
  {
   "cell_type": "code",
   "execution_count": 84,
   "metadata": {},
   "outputs": [
    {
     "name": "stdout",
     "output_type": "stream",
     "text": [
      "X_train sample values:\n",
      "(10587, 280, 1) \n",
      "\n",
      "X_test sample values:\n",
      "(4538, 280, 1)\n"
     ]
    }
   ],
   "source": [
    "# Reshape the features data\n",
    "X_train = X_train.reshape((X_train.shape[0], X_train.shape[1], 1))\n",
    "X_test = X_test.reshape((X_test.shape[0], X_test.shape[1], 1))\n",
    "\n",
    "# Print some sample data after reshaping the datasets\n",
    "print (f\"X_train sample values:\\n{X_train.shape} \\n\")\n",
    "print (f\"X_test sample values:\\n{X_test.shape}\")"
   ]
  },
  {
   "cell_type": "code",
   "execution_count": 86,
   "metadata": {},
   "outputs": [],
   "source": [
    "# Importing required Keras modules\n",
    "from tensorflow.keras.models import Sequential\n",
    "from tensorflow.keras.layers import LSTM, Dense, Dropout"
   ]
  },
  {
   "cell_type": "code",
   "execution_count": 87,
   "metadata": {},
   "outputs": [],
   "source": [
    "# Define the LSTM RNN model.\n",
    "model = Sequential()\n",
    "\n",
    "# Initial model setup\n",
    "number_units = 64\n",
    "dropout_fraction = 0.2\n",
    "\n",
    "# Layer 1\n",
    "model.add(LSTM(\n",
    "    units=number_units,\n",
    "    return_sequences=True,\n",
    "    input_shape=(X_train.shape[1], 1))\n",
    "    )\n",
    "model.add(Dropout(dropout_fraction))\n",
    "\n",
    "# Layer 2\n",
    "model.add(LSTM(units=number_units, return_sequences=True))\n",
    "model.add(Dropout(dropout_fraction))\n",
    "\n",
    "# Layer 3\n",
    "model.add(LSTM(units=number_units))\n",
    "model.add(Dropout(dropout_fraction))\n",
    "\n",
    "# Output layer\n",
    "model.add(Dense(1))"
   ]
  },
  {
   "cell_type": "code",
   "execution_count": 88,
   "metadata": {},
   "outputs": [
    {
     "name": "stdout",
     "output_type": "stream",
     "text": [
      "Model: \"sequential_1\"\n",
      "_________________________________________________________________\n",
      " Layer (type)                Output Shape              Param #   \n",
      "=================================================================\n",
      " lstm_3 (LSTM)               (None, 280, 64)           16896     \n",
      "                                                                 \n",
      " dropout_3 (Dropout)         (None, 280, 64)           0         \n",
      "                                                                 \n",
      " lstm_4 (LSTM)               (None, 280, 64)           33024     \n",
      "                                                                 \n",
      " dropout_4 (Dropout)         (None, 280, 64)           0         \n",
      "                                                                 \n",
      " lstm_5 (LSTM)               (None, 64)                33024     \n",
      "                                                                 \n",
      " dropout_5 (Dropout)         (None, 64)                0         \n",
      "                                                                 \n",
      " dense_1 (Dense)             (None, 1)                 65        \n",
      "                                                                 \n",
      "=================================================================\n",
      "Total params: 83,009\n",
      "Trainable params: 83,009\n",
      "Non-trainable params: 0\n",
      "_________________________________________________________________\n"
     ]
    }
   ],
   "source": [
    "# Compile the model\n",
    "model.compile(optimizer=\"adam\", loss=\"mean_squared_error\")\n",
    "# Show the model summary\n",
    "model.summary()"
   ]
  },
  {
   "cell_type": "markdown",
   "metadata": {},
   "source": []
  },
  {
   "cell_type": "code",
   "execution_count": 89,
   "metadata": {},
   "outputs": [
    {
     "name": "stdout",
     "output_type": "stream",
     "text": [
      "Epoch 1/10\n",
      "WARNING:tensorflow:AutoGraph could not transform <function Model.make_train_function.<locals>.train_function at 0x7f590371a560> and will run it as-is.\n",
      "Please report this to the TensorFlow team. When filing the bug, set the verbosity to 10 (on Linux, `export AUTOGRAPH_VERBOSITY=10`) and attach the full output.\n",
      "Cause: 'arguments' object has no attribute 'posonlyargs'\n",
      "To silence this warning, decorate the function with @tf.autograph.experimental.do_not_convert\n",
      "WARNING: AutoGraph could not transform <function Model.make_train_function.<locals>.train_function at 0x7f590371a560> and will run it as-is.\n",
      "Please report this to the TensorFlow team. When filing the bug, set the verbosity to 10 (on Linux, `export AUTOGRAPH_VERBOSITY=10`) and attach the full output.\n",
      "Cause: 'arguments' object has no attribute 'posonlyargs'\n",
      "To silence this warning, decorate the function with @tf.autograph.experimental.do_not_convert\n",
      "265/265 [==============================] - 120s 436ms/step - loss: 0.0183\n",
      "Epoch 2/10\n",
      "265/265 [==============================] - 123s 465ms/step - loss: 0.0146\n",
      "Epoch 3/10\n",
      "265/265 [==============================] - 126s 474ms/step - loss: 0.0077\n",
      "Epoch 4/10\n",
      "265/265 [==============================] - 127s 479ms/step - loss: 0.0069\n",
      "Epoch 5/10\n",
      "265/265 [==============================] - 124s 470ms/step - loss: 0.0038\n",
      "Epoch 6/10\n",
      "265/265 [==============================] - 100s 378ms/step - loss: 0.0068\n",
      "Epoch 7/10\n",
      "265/265 [==============================] - 99s 375ms/step - loss: 0.0040\n",
      "Epoch 8/10\n",
      "265/265 [==============================] - 100s 378ms/step - loss: 0.0050\n",
      "Epoch 9/10\n",
      "265/265 [==============================] - 101s 383ms/step - loss: 0.0039\n",
      "Epoch 10/10\n",
      "265/265 [==============================] - 102s 385ms/step - loss: 0.0043\n"
     ]
    }
   ],
   "source": [
    "# Train the model\n",
    "prediction = model.fit(X_train, y_train, epochs=10, shuffle=False, batch_size=40, verbose=1)"
   ]
  },
  {
   "cell_type": "code",
   "execution_count": 90,
   "metadata": {},
   "outputs": [
    {
     "name": "stdout",
     "output_type": "stream",
     "text": [
      "WARNING:tensorflow:AutoGraph could not transform <function Model.make_test_function.<locals>.test_function at 0x7f5903605dd0> and will run it as-is.\n",
      "Please report this to the TensorFlow team. When filing the bug, set the verbosity to 10 (on Linux, `export AUTOGRAPH_VERBOSITY=10`) and attach the full output.\n",
      "Cause: 'arguments' object has no attribute 'posonlyargs'\n",
      "To silence this warning, decorate the function with @tf.autograph.experimental.do_not_convert\n",
      "WARNING: AutoGraph could not transform <function Model.make_test_function.<locals>.test_function at 0x7f5903605dd0> and will run it as-is.\n",
      "Please report this to the TensorFlow team. When filing the bug, set the verbosity to 10 (on Linux, `export AUTOGRAPH_VERBOSITY=10`) and attach the full output.\n",
      "Cause: 'arguments' object has no attribute 'posonlyargs'\n",
      "To silence this warning, decorate the function with @tf.autograph.experimental.do_not_convert\n",
      "Saved model to disk\n"
     ]
    }
   ],
   "source": [
    "# Evaluate the model: 0.034360241144895554\n",
    "scores = model.evaluate(X_test, y_test, verbose=0)\n",
    "\n",
    "#print(\"%s: %.2f%%\" % (model.metrics_names[1], scores[1]*100))\n",
    "\n",
    "# save model and architecture to single file\n",
    "model.save(\"model_40.h5\")\n",
    "print(\"Saved model to disk\")"
   ]
  },
  {
   "cell_type": "code",
   "execution_count": 29,
   "metadata": {},
   "outputs": [
    {
     "data": {
      "text/plain": [
       "(4452, 280, 1)"
      ]
     },
     "execution_count": 29,
     "metadata": {},
     "output_type": "execute_result"
    }
   ],
   "source": []
  },
  {
   "cell_type": "code",
   "execution_count": 91,
   "metadata": {},
   "outputs": [
    {
     "name": "stdout",
     "output_type": "stream",
     "text": [
      "WARNING:tensorflow:AutoGraph could not transform <function Model.make_predict_function.<locals>.predict_function at 0x7f5a18a0c050> and will run it as-is.\n",
      "Please report this to the TensorFlow team. When filing the bug, set the verbosity to 10 (on Linux, `export AUTOGRAPH_VERBOSITY=10`) and attach the full output.\n",
      "Cause: 'arguments' object has no attribute 'posonlyargs'\n",
      "To silence this warning, decorate the function with @tf.autograph.experimental.do_not_convert\n",
      "WARNING: AutoGraph could not transform <function Model.make_predict_function.<locals>.predict_function at 0x7f5a18a0c050> and will run it as-is.\n",
      "Please report this to the TensorFlow team. When filing the bug, set the verbosity to 10 (on Linux, `export AUTOGRAPH_VERBOSITY=10`) and attach the full output.\n",
      "Cause: 'arguments' object has no attribute 'posonlyargs'\n",
      "To silence this warning, decorate the function with @tf.autograph.experimental.do_not_convert\n"
     ]
    }
   ],
   "source": [
    "# Make predictions using the testing data X_test\n",
    "predicted = model.predict(X_test)\n",
    "\n",
    "# Recover the original prices instead of the scaled version\n",
    "predicted_carspaces = scaler.inverse_transform(predicted)\n",
    "real_spaces = scaler.inverse_transform(y_test.reshape(-1, 1))\n",
    "\n",
    "forecast = model.predict(X_test[-200:])\n",
    "forecast_carspaces = scaler.inverse_transform(forecast)\n"
   ]
  },
  {
   "cell_type": "code",
   "execution_count": 92,
   "metadata": {},
   "outputs": [
    {
     "data": {
      "text/html": [
       "<div>\n",
       "<style scoped>\n",
       "    .dataframe tbody tr th:only-of-type {\n",
       "        vertical-align: middle;\n",
       "    }\n",
       "\n",
       "    .dataframe tbody tr th {\n",
       "        vertical-align: top;\n",
       "    }\n",
       "\n",
       "    .dataframe thead th {\n",
       "        text-align: right;\n",
       "    }\n",
       "</style>\n",
       "<table border=\"1\" class=\"dataframe\">\n",
       "  <thead>\n",
       "    <tr style=\"text-align: right;\">\n",
       "      <th></th>\n",
       "      <th>Actual</th>\n",
       "      <th>Predicted</th>\n",
       "    </tr>\n",
       "    <tr>\n",
       "      <th>Timestamp</th>\n",
       "      <th></th>\n",
       "      <th></th>\n",
       "    </tr>\n",
       "  </thead>\n",
       "  <tbody>\n",
       "    <tr>\n",
       "      <th>2022-04-17T23:16:15</th>\n",
       "      <td>142.0</td>\n",
       "      <td>130.414841</td>\n",
       "    </tr>\n",
       "    <tr>\n",
       "      <th>2022-04-17T23:26:17</th>\n",
       "      <td>142.0</td>\n",
       "      <td>130.708832</td>\n",
       "    </tr>\n",
       "    <tr>\n",
       "      <th>2022-04-17T23:33:27</th>\n",
       "      <td>143.0</td>\n",
       "      <td>130.988556</td>\n",
       "    </tr>\n",
       "    <tr>\n",
       "      <th>2022-04-17T23:43:27</th>\n",
       "      <td>143.0</td>\n",
       "      <td>131.270493</td>\n",
       "    </tr>\n",
       "    <tr>\n",
       "      <th>2022-04-17T23:53:29</th>\n",
       "      <td>143.0</td>\n",
       "      <td>131.547073</td>\n",
       "    </tr>\n",
       "  </tbody>\n",
       "</table>\n",
       "</div>"
      ],
      "text/plain": [
       "                     Actual   Predicted\n",
       "Timestamp                              \n",
       "2022-04-17T23:16:15   142.0  130.414841\n",
       "2022-04-17T23:26:17   142.0  130.708832\n",
       "2022-04-17T23:33:27   143.0  130.988556\n",
       "2022-04-17T23:43:27   143.0  131.270493\n",
       "2022-04-17T23:53:29   143.0  131.547073"
      ]
     },
     "execution_count": 92,
     "metadata": {},
     "output_type": "execute_result"
    }
   ],
   "source": [
    "# Create a DataFrame of Real and Predicted values\n",
    "carspaces = pd.DataFrame({\n",
    "    \"Actual\": real_spaces.ravel(),\n",
    "    \"Predicted\": predicted_carspaces.ravel()\n",
    "}, index = df_res.index[-len(real_spaces): ]) \n",
    "\n",
    "# Show the DataFrame's head\n",
    "carspaces.tail()"
   ]
  },
  {
   "cell_type": "code",
   "execution_count": 93,
   "metadata": {},
   "outputs": [
    {
     "data": {
      "text/plain": [
       "<AxesSubplot:title={'center':'Actual Vs. Predicted Car Spaces'}, xlabel='Timestamp'>"
      ]
     },
     "execution_count": 93,
     "metadata": {},
     "output_type": "execute_result"
    },
    {
     "data": {
      "image/png": "[encoded data removed]",
      "text/plain": [
       "<Figure size 432x288 with 1 Axes>"
      ]
     },
     "metadata": {
      "needs_background": "light"
     },
     "output_type": "display_data"
    }
   ],
   "source": [
    "forecast_period = pd.date_range(df_res.index[-1], periods=200, freq='5min').tolist()\n",
    "\n",
    "df_forecast = pd.DataFrame({'Timestamp':np.array(forecast_period), 'Predicted':forecast_carspaces.flatten()})\n",
    "df_forecast.set_index(df_forecast['Timestamp'], inplace=True)\n",
    "df_forecast =  df_forecast.drop(columns='Timestamp')\n",
    "#carspaces = pd.concat([carspaces,df_forecast])\n",
    "carspaces = pd.concat([carspaces,df_forecast])\n",
    "carspaces['Actual'] = carspaces['Actual'].fillna(0)\n",
    "carspaces.plot(title=\"Actual Vs. Predicted Car Spaces\",rot=90)\n",
    "#ax = carspaces.plot(title=\"Actual Vs. Predicted Car Spaces\",rot=90)\n",
    "\n",
    "#df_forecast.head()\n",
    "#df_forecast.plot(ax=ax,label = 'forecast')"
   ]
  },
  {
   "cell_type": "code",
   "execution_count": 94,
   "metadata": {},
   "outputs": [],
   "source": [
    "carspaces.to_csv('../Resources/available_spaces_forecast_18042022.csv')"
   ]
  }
 ],
 "metadata": {
  "interpreter": {
   "hash": "bd39da81f6d092c2d37efef46e04692f0050d798f8661f9954b1492e44ad8d65"
  },
  "kernelspec": {
   "display_name": "Python 3 (ipykernel)",
   "language": "python",
   "name": "python3"
  },
  "language_info": {
   "codemirror_mode": {
    "name": "ipython",
    "version": 3
   },
   "file_extension": ".py",
   "mimetype": "text/x-python",
   "name": "python",
   "nbconvert_exporter": "python",
   "pygments_lexer": "ipython3",
   "version": "3.9.12"
  }
 },
 "nbformat": 4,
 "nbformat_minor": 4
}

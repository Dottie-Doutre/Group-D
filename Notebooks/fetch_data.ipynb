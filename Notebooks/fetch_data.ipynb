{
 "cells": [
  {
   "cell_type": "code",
   "execution_count": 3,
   "metadata": {},
   "outputs": [],
   "source": [
    "import requests, json\n",
    "import pandas as pd\n",
    "import numpy as np\n",
    "from datetime import date, timedelta\n",
    "\n",
    "headers = {\n",
    "'Accept': 'application/x-google-protobuf',\n",
    "'Authorization': 'apikey vy2rFNXj4MRr2fuPWkB9etPZlz2yiD7NoWHl',\n",
    "}\n",
    "\n",
    "df_res = pd.DataFrame()\n",
    "all_res = []\n",
    "\n",
    "def get_carspaces(facility,date):\n",
    "\n",
    "    url = f'https://api.transport.nsw.gov.au/v1/carpark/history?facility={facility}&eventdate={date}'\n",
    "\n",
    "    response = requests.get(url, headers=headers, stream=True)\n",
    "    \n",
    "    json_string = json.loads(response.content)\n",
    "\n",
    "    list_of_available = []\n",
    "    list_timestamp = []\n",
    "    df_car_spaces = pd.DataFrame()\n",
    "    for x in range(len(json_string)):\n",
    "        total = json_string[x]['occupancy']['total']\n",
    "        timestamp = json_string[x]['MessageDate']\n",
    "        spots = json_string[x]['spots']\n",
    "        list_of_available.append( int(spots) - int(total))\n",
    "        list_timestamp.append( timestamp)\n",
    "    \n",
    "    df_car_spaces['Timestamp'] = list_timestamp\n",
    "    df_car_spaces['Available'] = list_of_available\n",
    "    all_res.append(df_car_spaces)\n",
    "\n",
    "# Parse date range\n",
    "def daterange(start_date, end_date):\n",
    "    for n in range(int((end_date - start_date).days)):\n",
    "        yield start_date + timedelta(n)\n",
    "\n",
    "# Set start and end datetimes of 1 month \n",
    "start_date = date(2022, 3, 11)\n",
    "end_date = date.today()\n",
    "for single_date in daterange(start_date, end_date):\n",
    "    #print(single_date.strftime(\"%Y-%m-%d\"))\n",
    "    # 14 - West Ryde Car Park\n",
    "    get_carspaces(14,single_date)\n",
    "\n",
    "df_res = pd.concat(all_res)\n",
    "df_res.to_csv('../Resources/carspaces_data.csv')"
   ]
  }
 ],
 "metadata": {
  "interpreter": {
   "hash": "bd39da81f6d092c2d37efef46e04692f0050d798f8661f9954b1492e44ad8d65"
  },
  "kernelspec": {
   "display_name": "Python 3.7.11 ('base')",
   "language": "python",
   "name": "python3"
  },
  "language_info": {
   "codemirror_mode": {
    "name": "ipython",
    "version": 3
   },
   "file_extension": ".py",
   "mimetype": "text/x-python",
   "name": "python",
   "nbconvert_exporter": "python",
   "pygments_lexer": "ipython3",
   "version": "3.7.11"
  },
  "orig_nbformat": 4
 },
 "nbformat": 4,
 "nbformat_minor": 2
}
